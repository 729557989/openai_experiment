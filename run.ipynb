{
 "cells": [
  {
   "cell_type": "markdown",
   "metadata": {},
   "source": [
    "Data Source: https://huggingface.co/datasets/AmazonScience/massive"
   ]
  },
  {
   "cell_type": "code",
   "execution_count": 2,
   "metadata": {},
   "outputs": [],
   "source": [
    "intents = ['datetime_query', 'iot_hue_lightchange', 'transport_ticket', 'takeaway_query', 'qa_stock',\n",
    "            'general_greet', 'recommendation_events', 'music_dislikeness', 'iot_wemo_off', 'cooking_recipe',\n",
    "            'qa_currency', 'transport_traffic', 'general_quirky', 'weather_query', 'audio_volume_up',\n",
    "            'email_addcontact', 'takeaway_order', 'email_querycontact', 'iot_hue_lightup',\n",
    "            'recommendation_locations', 'play_audiobook', 'lists_createoradd', 'news_query',\n",
    "            'alarm_query', 'iot_wemo_on', 'general_joke', 'qa_definition', 'social_query',\n",
    "            'music_settings', 'audio_volume_other', 'calendar_remove', 'iot_hue_lightdim',\n",
    "            'calendar_query', 'email_sendemail', 'iot_cleaning', 'audio_volume_down',\n",
    "            'play_radio', 'cooking_query', 'datetime_convert', 'qa_maths', 'iot_hue_lightoff',\n",
    "            'iot_hue_lighton', 'transport_query', 'music_likeness', 'email_query', 'play_music',\n",
    "            'audio_volume_mute', 'social_post', 'alarm_set', 'qa_factoid', 'calendar_set',\n",
    "            'play_game', 'alarm_remove', 'lists_remove', 'transport_taxi', 'recommendation_movies',\n",
    "            'iot_coffee', 'music_query', 'play_podcasts', 'lists_query']"
   ]
  },
  {
   "cell_type": "code",
   "execution_count": 3,
   "metadata": {},
   "outputs": [
    {
     "name": "stdout",
     "output_type": "stream",
     "text": [
      "qa_factoid\n"
     ]
    }
   ],
   "source": [
    "import openai\n",
    "\n",
    "text = \"hey can you help me look up biden\" + '->'\n",
    "\n",
    "ft_model = \"ada:ft-personal-2022-06-12-00-59-41\"\n",
    "res = openai.Completion.create(model=ft_model, prompt=text, max_tokens=1, temperature=0)\n",
    "print(intents[int(res['choices'][0]['text'])])"
   ]
  },
  {
   "cell_type": "code",
   "execution_count": null,
   "metadata": {},
   "outputs": [],
   "source": [
    "import pandas as pd\n",
    "\n",
    "results = pd.read_csv('result.csv')\n",
    "results[results['classification/accuracy'].notnull()].tail(1)\n",
    "results[results['classification/accuracy'].notnull()]['classification/accuracy'].plot()"
   ]
  }
 ],
 "metadata": {
  "interpreter": {
   "hash": "d64b02678d3681830d5c1de6d7de472facf33d9d63575e9bb19ab766eae78cc6"
  },
  "kernelspec": {
   "display_name": "Python 3.8.13 ('openai')",
   "language": "python",
   "name": "python3"
  },
  "language_info": {
   "codemirror_mode": {
    "name": "ipython",
    "version": 3
   },
   "file_extension": ".py",
   "mimetype": "text/x-python",
   "name": "python",
   "nbconvert_exporter": "python",
   "pygments_lexer": "ipython3",
   "version": "3.8.13"
  },
  "orig_nbformat": 4
 },
 "nbformat": 4,
 "nbformat_minor": 2
}
